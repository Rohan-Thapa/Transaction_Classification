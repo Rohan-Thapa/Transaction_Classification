{
 "cells": [
  {
   "cell_type": "code",
   "id": "initial_id",
   "metadata": {
    "collapsed": true,
    "ExecuteTime": {
     "end_time": "2025-05-15T09:03:13.683056Z",
     "start_time": "2025-05-15T09:03:13.678678Z"
    }
   },
   "source": [
    "import pandas as pd\n",
    "from sklearn.model_selection import train_test_split, GridSearchCV\n",
    "from sklearn.feature_extraction.text import TfidfVectorizer\n",
    "from sklearn.linear_model import LogisticRegression\n",
    "from sklearn.pipeline import Pipeline\n",
    "from sklearn.metrics import classification_report\n",
    "import warnings\n",
    "\n",
    "# Silence any stray pandas warnings as the FutureWarning was being created which was silenced through this.\n",
    "warnings.simplefilter(action=\"ignore\", category=FutureWarning)"
   ],
   "outputs": [],
   "execution_count": 8
  },
  {
   "metadata": {
    "ExecuteTime": {
     "end_time": "2025-05-15T09:03:13.724973Z",
     "start_time": "2025-05-15T09:03:13.706818Z"
    }
   },
   "cell_type": "code",
   "source": [
    "df = pd.read_csv('transactions_datasets.csv')\n",
    "\n",
    "df[\"datetime\"] = pd.to_datetime(\n",
    "    df[\"datetime\"],\n",
    "    format=\"%Y-%m-%d %H:%M:%S,%f\",\n",
    "    errors=\"raise\"            # will error if any row doesn't match the format\n",
    ")"
   ],
   "id": "31c6fc2b2bba5de6",
   "outputs": [],
   "execution_count": 9
  },
  {
   "metadata": {
    "ExecuteTime": {
     "end_time": "2025-05-15T09:03:13.754995Z",
     "start_time": "2025-05-15T09:03:13.745356Z"
    }
   },
   "cell_type": "code",
   "source": [
    "def map_to_category(desc: str) -> str:\n",
    "    primary = desc.split(',')[0].strip().lower()\n",
    "    if any(k in primary for k in ['utilities', 'bill', 'electricity', 'water', 'internet']):\n",
    "        return 'Utilities'\n",
    "    if any(k in primary for k in ['movie', 'theater', 'circus', 'theme park', 'live match', 'concert']):\n",
    "        return 'Entertainment'\n",
    "    if any(k in primary for k in ['food', 'snacks', 'coffee', 'restaurant', 'meal']):\n",
    "        return 'Food'\n",
    "    if any(k in primary for k in ['buying', 'shopping', 'book', 'gift', 'online']):\n",
    "        return 'Shopping'\n",
    "    if any(k in primary for k in ['bus ticket', 'aeroplane ticket', 'train ticket', 'ride share', 'hotel booking', 'booking']):\n",
    "        return 'Travelling'\n",
    "    if any(k in primary for k in ['topup', 'recharge', 'mobile topup']):\n",
    "        return 'TopUp'\n",
    "    if any(k in primary for k in ['subscription', 'gift', 'charity donation', 'parking fee', 'loan']):\n",
    "        return 'Bill Split'\n",
    "    return 'Others'\n",
    "\n",
    "df2 = df.copy()\n",
    "df2['label'] = df2['description'].apply(map_to_category)"
   ],
   "id": "6cb20be26562c083",
   "outputs": [],
   "execution_count": 10
  },
  {
   "metadata": {
    "ExecuteTime": {
     "end_time": "2025-05-15T09:03:13.780138Z",
     "start_time": "2025-05-15T09:03:13.773779Z"
    }
   },
   "cell_type": "code",
   "source": [
    "X_train, X_test, y_train, y_test = train_test_split(\n",
    "    df2['description'],\n",
    "    df2['label'],\n",
    "    test_size=0.20,\n",
    "    random_state=42,\n",
    "    stratify=df2['label']\n",
    ")"
   ],
   "id": "35299eeee5e198ee",
   "outputs": [],
   "execution_count": 11
  },
  {
   "metadata": {
    "ExecuteTime": {
     "end_time": "2025-05-15T09:03:14.327099Z",
     "start_time": "2025-05-15T09:03:13.799665Z"
    }
   },
   "cell_type": "code",
   "source": [
    "pipeline = Pipeline([\n",
    "    (\"tfidf\", TfidfVectorizer(ngram_range=(1, 2), min_df=2)),\n",
    "    (\"clf\", LogisticRegression(max_iter=1000))\n",
    "])\n",
    "\n",
    "param_grid = {\n",
    "    \"tfidf__max_df\": [0.8, 1.0],\n",
    "    \"clf__C\": [0.1, 1.0, 10.0]\n",
    "}\n",
    "\n",
    "grid = GridSearchCV(\n",
    "    pipeline,\n",
    "    param_grid,\n",
    "    cv=5,\n",
    "    scoring=\"f1_macro\",\n",
    "    n_jobs=1              # ← avoid Loky resource_tracker issues as it arises due to parallel processing issue\n",
    ")\n",
    "\n",
    "grid.fit(X_train, y_train)\n",
    "\n",
    "y_pred = grid.predict(X_test)\n",
    "print(classification_report(y_test, y_pred))"
   ],
   "id": "402dd61632d21f15",
   "outputs": [
    {
     "name": "stdout",
     "output_type": "stream",
     "text": [
      "               precision    recall  f1-score   support\n",
      "\n",
      "   Bill Split       1.00      1.00      1.00        75\n",
      "Entertainment       1.00      1.00      1.00        84\n",
      "         Food       1.00      1.00      1.00        36\n",
      "     Shopping       1.00      1.00      1.00        92\n",
      "        TopUp       1.00      1.00      1.00        19\n",
      "   Travelling       1.00      1.00      1.00        75\n",
      "    Utilities       1.00      1.00      1.00        19\n",
      "\n",
      "     accuracy                           1.00       400\n",
      "    macro avg       1.00      1.00      1.00       400\n",
      " weighted avg       1.00      1.00      1.00       400\n",
      "\n"
     ]
    }
   ],
   "execution_count": 12
  },
  {
   "metadata": {
    "ExecuteTime": {
     "end_time": "2025-05-15T09:03:14.352098Z",
     "start_time": "2025-05-15T09:03:14.347214Z"
    }
   },
   "cell_type": "code",
   "source": [
    "# Now testing the model with an example description\n",
    "example_desc = \"Buying a t-shirt\"\n",
    "pred = grid.predict([example_desc])[0]\n",
    "print(f\"Description: '{example_desc}' → Predicted category: {pred}\")"
   ],
   "id": "6143bc6c056ae2ee",
   "outputs": [
    {
     "name": "stdout",
     "output_type": "stream",
     "text": [
      "Description: 'Buying a t-shirt' → Predicted category: Shopping\n"
     ]
    }
   ],
   "execution_count": 13
  },
  {
   "metadata": {
    "ExecuteTime": {
     "end_time": "2025-05-15T09:03:14.391099Z",
     "start_time": "2025-05-15T09:03:14.388273Z"
    }
   },
   "cell_type": "code",
   "source": "print(\"The Logistic Regression with label encoded with the category for Supervised learning is working great.\")",
   "id": "b97a15690d2c9672",
   "outputs": [
    {
     "name": "stdout",
     "output_type": "stream",
     "text": [
      "The Logistic Regression with label encoded with the category for Supervised learning is working great.\n"
     ]
    }
   ],
   "execution_count": 14
  },
  {
   "metadata": {},
   "cell_type": "markdown",
   "source": "# It has performed better than Clustering and we were able to do it till the final so it is great, Created by Rohan Thapa.",
   "id": "88b9bc07c68190d8"
  }
 ],
 "metadata": {
  "kernelspec": {
   "display_name": "Python 3",
   "language": "python",
   "name": "python3"
  },
  "language_info": {
   "codemirror_mode": {
    "name": "ipython",
    "version": 2
   },
   "file_extension": ".py",
   "mimetype": "text/x-python",
   "name": "python",
   "nbconvert_exporter": "python",
   "pygments_lexer": "ipython2",
   "version": "2.7.6"
  }
 },
 "nbformat": 4,
 "nbformat_minor": 5
}
